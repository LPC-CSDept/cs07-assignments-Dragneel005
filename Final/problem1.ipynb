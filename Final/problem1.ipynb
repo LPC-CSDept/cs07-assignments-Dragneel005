FLnames = open("fl2021.txt")
CAnames = open("fl2021.txt")

#pt1
CAinput = {
  "state": 'CA',
  "male": {
    "gender": 'Male',
    "name": [],
    "number": []
  },
  "female": {
    "gender": 'Female',
    "name": [],
    "number": []
  }
}
FLinput = {
  "state": 'FL',
  "male": {
    "gender": 'Male',
    "name": [],
    "number": []
  },
  "female": {
    "gender": 'Female',
    "name": [],
    "number": []
  }
}


def ReadFile(file, state):
    for line in file:
        line = line.strip()
        line = line.split(' ')
        state["male"]["name"].append(line[1])
        state["male"]["number"].append(line[2])
        state["female"]["name"].append(line[3])
        state["female"]["number"].append(line[4])

ReadFile(FLnames, FLinput)
ReadFile(CAnames, CAinput)