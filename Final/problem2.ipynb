{
 "cells": [
  {
   "cell_type": "code",
   "execution_count": null,
   "metadata": {},
   "outputs": [],
   "source": [
    "import random as rand\n",
    "\n",
    "lst=[]\n",
    "dict1={}\n",
    "\n",
    "for i in range(10):\n",
    "  inpu = rand.randint(0,4)\n",
    "  lst.append(inpu)\n",
    "  \n",
    "print(\"List of random numbers\")\n",
    "print(lst)\n",
    "\n",
    "from collections import Counter\n",
    "\n",
    "dict1=dict(Counter(lst))\n",
    "print('The dictionary')\n",
    "print(dict1)\n",
    "\n",
    "count= max(dict1, key=lambda t: dict1[t])\n",
    "counts = dict1[count]\n",
    "\n",
    "print(\"Digit:\", count, '(', counts, 'number ocurred )')"
   ]
  }
 ],
 "metadata": {
  "language_info": {
   "name": "python"
  },
  "orig_nbformat": 4
 },
 "nbformat": 4,
 "nbformat_minor": 2
}
