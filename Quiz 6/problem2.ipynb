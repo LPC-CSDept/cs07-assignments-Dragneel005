{
 "cells": [
  {
   "cell_type": "code",
   "execution_count": null,
   "metadata": {},
   "outputs": [],
   "source": [
    "import random\n",
    "list1 = []\n",
    "list2 = []\n",
    "\n",
    "def input():\n",
    "  for i in range(random.randint(0, 10)):\n",
    "    list1.append(random.randint(0, 10))\n",
    "  for j in range(random.randint(0, 10)):\n",
    "    list2.append(random.randint(0, 10))\n",
    "  print(list1, list2)\n",
    "  return list1, list2\n",
    "getevens = lambda num: num % 2 == 0\n",
    "def getmerged(list1, list2):\n",
    "  result = []\n",
    "  for num in list1:\n",
    "    if getevens(num) == True:\n",
    "      result.append(num)\n",
    "  for num in list2:\n",
    "    if getevens(num) == True:\n",
    "      result.append(num)\n",
    "  for num in result:\n",
    "    yield num\n",
    "\n",
    "input()\n",
    "result = getmerged(list1, list2)\n",
    "for v in result:\n",
    "  print(v)"
   ]
  }
 ],
 "metadata": {
  "language_info": {
   "name": "python"
  },
  "orig_nbformat": 4
 },
 "nbformat": 4,
 "nbformat_minor": 2
}
